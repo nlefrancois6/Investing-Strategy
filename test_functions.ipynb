{
 "cells": [
  {
   "cell_type": "code",
   "execution_count": 1,
   "metadata": {},
   "outputs": [
    {
     "name": "stderr",
     "output_type": "stream",
     "text": [
      "//anaconda3/lib/python3.7/site-packages/pandas/compat/_optional.py:138: UserWarning: Pandas requires version '2.7.0' or newer of 'numexpr' (version '2.6.9' currently installed).\n",
      "  warnings.warn(msg, UserWarning)\n"
     ]
    }
   ],
   "source": [
    "import unittest\n",
    "import nose.tools as nt\n",
    "import numpy as np\n",
    "#import helper_functions as hf\n",
    "import ipynb.fs.full.MRT_Funcs"
   ]
  },
  {
   "cell_type": "code",
   "execution_count": 3,
   "metadata": {},
   "outputs": [],
   "source": [
    "#might need to save this as a .py file to run nt in the terminal\n",
    "class test_tools():\n",
    "\n",
    "    def setUp(self):\n",
    "        # Create a random array\n",
    "        #self.n = 4\n",
    "        #self.rand_array = np.random.normal(size=(self.n,self.n))\n",
    "        pass\n",
    "\n",
    "    def tearDown(self):\n",
    "        pass\n",
    "    \n",
    "    def test_stratBacktest(self):\n",
    "        ticker = 'ETH-CAD'\n",
    "        start_date = '2020-11-30'\n",
    "        end_date = '2021-10-01'\n",
    "        strat='SMA_MR'\n",
    "        verbose = False\n",
    "        safety = True\n",
    "        SMA = 50\n",
    "        threshold = 0.10\n",
    "        safety_threshold = 0.15\n",
    "        short_term_sma=10\n",
    "        long_term_sma=20\n",
    "        short_long_threshold=0.05\n",
    "        #Pack the strategy settings\n",
    "        strat_settings1 = [ticker, strat, SMA, threshold, safety, safety_threshold, short_term_sma, long_term_sma, short_long_threshold, start_date,end_date]\n",
    "\n",
    "        #Run the backtest\n",
    "        data_safe_ensemble = stratBacktest(strat_settings1)\n",
    "        \n",
    "        assert type(data_safe_ensemble) == pandas.core.frame.DataFrame\n",
    "        nt.assert_equal(data_safe_ensemble.shape[1],21)"
   ]
  },
  {
   "cell_type": "code",
   "execution_count": null,
   "metadata": {},
   "outputs": [],
   "source": []
  }
 ],
 "metadata": {
  "kernelspec": {
   "display_name": "Python 3",
   "language": "python",
   "name": "python3"
  },
  "language_info": {
   "codemirror_mode": {
    "name": "ipython",
    "version": 3
   },
   "file_extension": ".py",
   "mimetype": "text/x-python",
   "name": "python",
   "nbconvert_exporter": "python",
   "pygments_lexer": "ipython3",
   "version": "3.7.3"
  }
 },
 "nbformat": 4,
 "nbformat_minor": 2
}
